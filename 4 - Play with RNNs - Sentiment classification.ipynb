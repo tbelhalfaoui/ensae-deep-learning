{
 "cells": [
  {
   "cell_type": "markdown",
   "metadata": {
    "id": "Uk0ZwYCIaxpY"
   },
   "source": [
    "##### Copyright 2018 The TensorFlow Authors."
   ]
  },
  {
   "cell_type": "markdown",
   "metadata": {
    "id": "8qGdMERPa-a_"
   },
   "source": [
    "This text classification tutorial trains a [recurrent neural network](https://developers.google.com/machine-learning/glossary/#recurrent_neural_network) on the [IMDB large movie review dataset](http://ai.stanford.edu/~amaas/data/sentiment/) for sentiment analysis.\n",
    "\n",
    "Adapted from: https://colab.research.google.com/github/tensorflow/text/blob/master/docs/tutorials/text_classification_rnn.ipynb"
   ]
  },
  {
   "cell_type": "markdown",
   "metadata": {
    "id": "w3TXBMlIbCKu"
   },
   "source": [
    "# Text classification with an RNN"
   ]
  },
  {
   "cell_type": "markdown",
   "metadata": {
    "id": "S3IS1-cmbD0H"
   },
   "source": [
    "This text classification tutorial trains a [recurrent neural network](https://developers.google.com/machine-learning/glossary/#recurrent_neural_network) on the [IMDB large movie review dataset](http://ai.stanford.edu/~amaas/data/sentiment/) for sentiment analysis.\n",
    "\n",
    "NB: the leaderboard with all the best models can be found here: https://paperswithcode.com/sota/sentiment-analysis-on-imdb"
   ]
  },
  {
   "cell_type": "code",
   "execution_count": null,
   "metadata": {
    "id": "1HorgVJqbG0F"
   },
   "outputs": [],
   "source": [
    "import numpy as np\n",
    "\n",
    "import tensorflow_datasets as tfds\n",
    "import tensorflow as tf"
   ]
  },
  {
   "cell_type": "code",
   "execution_count": null,
   "metadata": {
    "id": "Flkfe96sbLJe"
   },
   "outputs": [],
   "source": [
    "import matplotlib.pyplot as plt\n",
    "\n",
    "\n",
    "def plot_graphs(history, metric):\n",
    "  plt.plot(history.history[metric])\n",
    "  plt.plot(history.history['val_'+metric], '')\n",
    "  plt.xlabel(\"Epochs\")\n",
    "  plt.ylabel(metric)\n",
    "  plt.legend([metric, 'val_'+metric])"
   ]
  },
  {
   "cell_type": "markdown",
   "metadata": {
    "id": "T2vD2HPGbQFk"
   },
   "source": [
    "## Setup input pipeline\n",
    "\n",
    "\n",
    "The IMDB large movie review dataset is a *binary classification* dataset—all the reviews have either a *positive* or *negative* sentiment.\n",
    "\n",
    "Download the dataset using [TFDS](https://www.tensorflow.org/datasets). See the [loading text tutorial](https://www.tensorflow.org/tutorials/load_data/text) for details on how to load this sort of data manually.\n"
   ]
  },
  {
   "cell_type": "code",
   "execution_count": null,
   "metadata": {
    "id": "xpAoIdnQbPQs"
   },
   "outputs": [],
   "source": [
    "dataset, info = tfds.load('imdb_reviews', with_info=True,\n",
    "                          as_supervised=True)\n",
    "train_dataset, test_dataset = dataset['train'], dataset['test']\n",
    "\n",
    "train_dataset.element_spec"
   ]
  },
  {
   "cell_type": "markdown",
   "metadata": {
    "id": "1_FZ-FtYbyib"
   },
   "source": [
    "Initially this returns a dataset of (text, label pairs):"
   ]
  },
  {
   "cell_type": "code",
   "execution_count": null,
   "metadata": {
    "id": "eBtvBDDEb2SB"
   },
   "outputs": [],
   "source": [
    "for example, label in train_dataset.take(1):\n",
    "  print('text: ', example.numpy())\n",
    "  print('label: ', label.numpy())"
   ]
  },
  {
   "cell_type": "code",
   "execution_count": null,
   "metadata": {
    "id": "IFzA5fh3sJ3D"
   },
   "outputs": [],
   "source": [
    "###############\n",
    "# Can you analyse and plot the distribution of the length of the reviews?\n",
    "###############"
   ]
  },
  {
   "cell_type": "markdown",
   "metadata": {
    "id": "nzC9riqVb8bt"
   },
   "source": [
    "Next shuffle the data for training and create batches of these `(text, label)` pairs:"
   ]
  },
  {
   "cell_type": "code",
   "execution_count": null,
   "metadata": {
    "id": "Hb62yppyb-3t"
   },
   "outputs": [],
   "source": [
    "BUFFER_SIZE = 10000\n",
    "BATCH_SIZE = 64"
   ]
  },
  {
   "cell_type": "code",
   "execution_count": null,
   "metadata": {
    "id": "Fm9MJcKhcBWg"
   },
   "outputs": [],
   "source": [
    "train_dataset = train_dataset.shuffle(BUFFER_SIZE).batch(BATCH_SIZE).prefetch(tf.data.AUTOTUNE)\n",
    "test_dataset = test_dataset.batch(BATCH_SIZE).prefetch(tf.data.AUTOTUNE)"
   ]
  },
  {
   "cell_type": "code",
   "execution_count": null,
   "metadata": {
    "id": "qa9Xn_0GcE1w"
   },
   "outputs": [],
   "source": [
    "for example, label in train_dataset.take(1):\n",
    "  print('texts: ', example.numpy()[:3])\n",
    "  print()\n",
    "  print('labels: ', label.numpy()[:3])"
   ]
  },
  {
   "cell_type": "markdown",
   "metadata": {
    "id": "cPjBxeiDcJK-"
   },
   "source": [
    "## Create the text encoder"
   ]
  },
  {
   "cell_type": "markdown",
   "metadata": {
    "id": "aafjwaVzcSmD"
   },
   "source": [
    "The raw text loaded by `tfds` needs to be processed before it can be used in a model. The simplest way to process text for training is using the `TextVectorization` layer. This layer has many capabilities, but this tutorial sticks to the default behavior. In particular, this will:\n",
    "- make all lowercase\n",
    "- strip punctuation\n",
    "- tokenize with simple whitespace\n",
    "- and finally, map a token to an integer\n",
    "\n",
    "Create the layer, and pass the dataset's text to the layer's `.adapt` method:"
   ]
  },
  {
   "cell_type": "code",
   "execution_count": null,
   "metadata": {
    "id": "RZDjFgkncb3P"
   },
   "outputs": [],
   "source": [
    "VOCAB_SIZE = 10000\n",
    "encoder = tf.keras.layers.TextVectorization(\n",
    "                          max_tokens=VOCAB_SIZE)\n",
    "# Then, the encoder will adapt on the training set.\n",
    "encoder.adapt(train_dataset.map(lambda text, label: text))"
   ]
  },
  {
   "cell_type": "markdown",
   "metadata": {
    "id": "ulxxgsMece1v"
   },
   "source": [
    "The .adapt method sets the layer's vocabulary. Note that if you have a token never seen in the test set, it will be assign to an \"UNK\" (for unknown) integer.\n",
    "\n",
    "Here are the first 20 tokens. After the padding and unknown tokens they're sorted by frequency:"
   ]
  },
  {
   "cell_type": "code",
   "execution_count": null,
   "metadata": {
    "colab": {
     "base_uri": "https://localhost:8080/"
    },
    "executionInfo": {
     "elapsed": 430,
     "status": "ok",
     "timestamp": 1664898550048,
     "user": {
      "displayName": "Pauline Chavallard",
      "userId": "08522635348076933378"
     },
     "user_tz": -120
    },
    "id": "0WTZhPo3cfYH",
    "outputId": "eecbeab8-e9fe-4340-a9de-df0057faea6f"
   },
   "outputs": [],
   "source": [
    "vocab = np.array(encoder.get_vocabulary())\n",
    "vocab[:20]"
   ]
  },
  {
   "cell_type": "markdown",
   "metadata": {
    "id": "xD8kXlkPcmHJ"
   },
   "source": [
    "Once the vocabulary is set, the layer can encode text into indices. The tensors of indices are 0-padded to the longest sequence in the batch (unless you set a fixed output_sequence_length):"
   ]
  },
  {
   "cell_type": "code",
   "execution_count": null,
   "metadata": {
    "colab": {
     "base_uri": "https://localhost:8080/"
    },
    "executionInfo": {
     "elapsed": 441,
     "status": "ok",
     "timestamp": 1664898556909,
     "user": {
      "displayName": "Pauline Chavallard",
      "userId": "08522635348076933378"
     },
     "user_tz": -120
    },
    "id": "QIuwk5I4cml7",
    "outputId": "2407b1a4-e89d-43eb-d39c-c69721838204"
   },
   "outputs": [],
   "source": [
    "encoded_example = encoder(example)[:3].numpy()\n",
    "encoded_example"
   ]
  },
  {
   "cell_type": "markdown",
   "metadata": {
    "id": "iy4iIFPmcv8f"
   },
   "source": [
    "With the default settings, the process is not completely reversible. There are three main reasons for that:\n",
    "\n",
    "1. The default value for `preprocessing.TextVectorization`'s `standardize` argument is `\"lower_and_strip_punctuation\"`.\n",
    "2. The limited vocabulary size and lack of character-based fallback results in some unknown tokens."
   ]
  },
  {
   "cell_type": "code",
   "execution_count": null,
   "metadata": {
    "id": "B4hWfG7XcyI-"
   },
   "outputs": [],
   "source": [
    "for n in range(3):\n",
    "  print(\"Original: \", example[n].numpy())\n",
    "  print(\"Round-trip: \", \" \".join(vocab[encoded_example[n]]))\n",
    "  print()\n",
    "\n",
    "# You can see with this cell that the generated sentence is not exactly the same as the original one."
   ]
  },
  {
   "cell_type": "markdown",
   "metadata": {
    "id": "ELjRIkJQc2Ka"
   },
   "source": [
    "## Create the model"
   ]
  },
  {
   "cell_type": "markdown",
   "metadata": {
    "id": "fNAaVYiGdKlN"
   },
   "source": [
    "Above is a diagram of the model.\n",
    "\n",
    "1. This model can be build as a `tf.keras.Sequential`.\n",
    "\n",
    "2. The first layer is the `encoder`, which converts the text to a sequence of token indices.\n",
    "\n",
    "3. After the encoder is an embedding layer. An embedding layer stores one vector per word. When called, it converts the sequences of word indices to sequences of vectors. These vectors are trainable. After training (on enough data), words with similar meanings often have similar vectors.\n",
    "\n",
    "  This index-lookup is much more efficient than the equivalent operation of passing a one-hot encoded vector through a `tf.keras.layers.Dense` layer.\n",
    "\n",
    "4. A recurrent neural network (RNN) processes sequence input by iterating through the elements. RNNs pass the outputs from one timestep to their input on the next timestep.\n",
    "\n",
    "  The `tf.keras.layers.Bidirectional` wrapper can also be used with an RNN layer. This propagates the input forward and backwards through the RNN layer and then concatenates the final output.\n",
    "\n",
    "  * The main advantage of a bidirectional RNN is that the signal from the beginning of the input doesn't need to be processed all the way through every timestep to affect the output.  \n",
    "\n",
    "  * The main disadvantage of a bidirectional RNN is that you can't efficiently stream predictions as words are being added to the end.\n",
    "\n",
    "5. After the RNN has converted the sequence to a single vector the two `layers.Dense` do some final processing, and convert from this vector representation to a single logit as the classification output."
   ]
  },
  {
   "cell_type": "code",
   "execution_count": null,
   "metadata": {
    "id": "USZpktfrdJ2O"
   },
   "outputs": [],
   "source": [
    "model = tf.keras.Sequential([\n",
    "    encoder,\n",
    "    # Embedding lookup\n",
    "    tf.keras.layers.Embedding(\n",
    "        input_dim=len(encoder.get_vocabulary()),\n",
    "        output_dim=64,\n",
    "        # Use masking to handle the variable sequence lengths\n",
    "        mask_zero=True,\n",
    "        trainable=True\n",
    "    ),\n",
    "    tf.keras.layers.Bidirectional(tf.keras.layers.LSTM(64)),  # Check on Keras doc which activation is used!\n",
    "    tf.keras.layers.Dense(64, activation=\"💡TODO\"),\n",
    "    tf.keras.layers.Dense(\"💡TODO\")\n",
    "])"
   ]
  },
  {
   "cell_type": "markdown",
   "metadata": {
    "id": "DZlCNEs0dcBN"
   },
   "source": [
    "The embedding layer [uses masking](https://www.tensorflow.org/guide/keras/masking_and_padding) to handle the varying sequence-lengths. All the layers after the `Embedding` support masking:"
   ]
  },
  {
   "cell_type": "code",
   "execution_count": null,
   "metadata": {
    "id": "-0lkwe8Oddj8"
   },
   "outputs": [],
   "source": [
    "print([layer.supports_masking for layer in model.layers])"
   ]
  },
  {
   "cell_type": "markdown",
   "metadata": {
    "id": "6YbbFSSLd7aa"
   },
   "source": [
    "To confirm that this works as expected, evaluate a sentence twice. First, alone so there's no padding to mask:"
   ]
  },
  {
   "cell_type": "code",
   "execution_count": null,
   "metadata": {
    "id": "avtQplHrd9k1"
   },
   "outputs": [],
   "source": [
    "# predict on a sample text without padding.\n",
    "\n",
    "sample_text = ('The movie was cool. The animation and the graphics '\n",
    "               'were out of this world. I would recommend this movie.')\n",
    "predictions = model.predict(np.array([sample_text]))\n",
    "print(predictions[0])"
   ]
  },
  {
   "cell_type": "markdown",
   "metadata": {
    "id": "SV7roqIaeCNx"
   },
   "source": [
    "Now, evaluate it again in a batch with a longer sentence. The result should be identical:"
   ]
  },
  {
   "cell_type": "code",
   "execution_count": null,
   "metadata": {
    "id": "9J420CCfeBua"
   },
   "outputs": [],
   "source": [
    "# predict on a sample text with padding\n",
    "\n",
    "padding = \"the \" * 2000\n",
    "predictions = model.predict(np.array([sample_text, padding]))\n",
    "print(predictions[0])\n",
    "print(predictions[1])"
   ]
  },
  {
   "cell_type": "code",
   "execution_count": null,
   "metadata": {
    "id": "xm2NMHnQeHFx"
   },
   "outputs": [],
   "source": [
    "model.compile(\"💡TODO\",\n",
    "              optimizer=\"💡TODO\",\n",
    "              metrics=['accuracy'])"
   ]
  },
  {
   "cell_type": "markdown",
   "metadata": {
    "id": "LRNiSl_nejXg"
   },
   "source": [
    "## Train the model"
   ]
  },
  {
   "cell_type": "code",
   "execution_count": null,
   "metadata": {
    "id": "Gem1zX-5elrO"
   },
   "outputs": [],
   "source": [
    "NB_EPOCHS = 10\n",
    "\n",
    "history = model.fit(train_dataset,\n",
    "                    epochs=NB_EPOCHS,\n",
    "                    validation_data=test_dataset)"
   ]
  },
  {
   "cell_type": "code",
   "execution_count": null,
   "metadata": {
    "id": "d62N4X3PesXT"
   },
   "outputs": [],
   "source": [
    "test_loss, test_acc = model.evaluate(test_dataset)\n",
    "\n",
    "prinst('Test Loss:', test_loss)\n",
    "print('Test Accuracy:', test_acc)"
   ]
  },
  {
   "cell_type": "code",
   "execution_count": null,
   "metadata": {
    "id": "t4vEIuHBeuRd"
   },
   "outputs": [],
   "source": [
    "plt.figure(figsize=(16, 8))\n",
    "plt.subplot(1, 2, 1)\n",
    "plot_graphs(history, 'accuracy')\n",
    "plt.ylim(None, 1)\n",
    "plt.subplot(1, 2, 2)\n",
    "plot_graphs(history, 'loss')\n",
    "plt.ylim(0, None)"
   ]
  },
  {
   "cell_type": "markdown",
   "metadata": {
    "id": "Wg2Pw-aQyw3H"
   },
   "source": [
    "What do you observe? Can you comment?\n",
    "Remember: tradeoff bias / variance!"
   ]
  },
  {
   "cell_type": "markdown",
   "metadata": {
    "id": "z2L5hGAlewUM"
   },
   "source": [
    "Run a prediction on a new sentence:\n",
    "\n",
    "If the prediction is >= 0.0, it is positive else it is negative."
   ]
  },
  {
   "cell_type": "code",
   "execution_count": null,
   "metadata": {
    "id": "oWsoRkD5exPU"
   },
   "outputs": [],
   "source": [
    "sample_text = ('The movie was cool. The animation and the graphics '\n",
    "               'were out of this world. I would recommend this movie.')\n",
    "predictions = model.predict(np.array([sample_text]))\n",
    "predictions"
   ]
  },
  {
   "cell_type": "code",
   "execution_count": null,
   "metadata": {
    "id": "c6oUmzzy-Lvt"
   },
   "outputs": [],
   "source": [
    "prediction = model.predict(test_dataset)"
   ]
  },
  {
   "cell_type": "code",
   "execution_count": null,
   "metadata": {
    "id": "ZfBDeV1K8NDq"
   },
   "outputs": [],
   "source": [
    "import numpy as np\n",
    "import matplotlib as mpl\n",
    "import matplotlib.pyplot as plt\n",
    "import seaborn as sns\n",
    "from sklearn.metrics import (classification_report,\n",
    "                             confusion_matrix,\n",
    "                             roc_auc_score)\n",
    "%matplotlib inline\n",
    "%config InlineBackend.figure_format = 'retina'\n",
    "\n",
    "## Making predictions on our model\n",
    "y_pred = (prediction > 0.5)\n",
    "y_test = np.concatenate([label.numpy() for _, label in test_dataset])\n",
    "\n",
    "report = classification_report(y_test, y_pred)\n",
    "print(report)\n",
    "\n",
    "roc_auc = roc_auc_score(y_test, prediction)\n",
    "print(\"ROC AUC score:\", roc_auc)\n",
    "\n",
    "def plot_cm(labels, predictions, p=0.5):\n",
    "    cm = confusion_matrix(labels, predictions)\n",
    "    plt.figure(figsize=(5, 5))\n",
    "    sns.heatmap(cm, annot=True, fmt=\"d\")\n",
    "    plt.title(\"Confusion matrix (non-normalized))\")\n",
    "    plt.ylabel(\"Actual label\")\n",
    "    plt.xlabel(\"Predicted label\")\n",
    "\n",
    "plot_cm(y_test, y_pred)"
   ]
  },
  {
   "cell_type": "markdown",
   "metadata": {
    "id": "rpAQSYXWgS3-"
   },
   "source": [
    "## Stack two or more LSTM layers"
   ]
  },
  {
   "cell_type": "markdown",
   "metadata": {
    "id": "4Qov8wWfgV3a"
   },
   "source": [
    "Keras recurrent layers have two available modes that are controlled by the `return_sequences` constructor argument:\n",
    "\n",
    "If False it returns only the last output for each input sequence (a 2D tensor of shape (batch_size, output_features)). This is the default, used in the previous model.\n",
    "\n",
    "If True the full sequences of successive outputs for each timestep is returned (a 3D tensor of shape (batch_size, timesteps, output_features)).\n",
    "\n",
    "The interesting thing about using an RNN with return_sequences=True is that the output still has 3-axes, like the input, so it can be passed to another RNN layer, like this:"
   ]
  },
  {
   "cell_type": "code",
   "execution_count": null,
   "metadata": {
    "id": "Hh6slqdgghYu"
   },
   "outputs": [],
   "source": [
    "model = tf.keras.Sequential([\n",
    "    # SOME STUFF\n",
    "    tf.keras.layers.Bidirectional(tf.keras.layers.LSTM(64,  return_sequences=True)),\n",
    "    tf.keras.layers.Bidirectional(tf.keras.layers.LSTM(32)),\n",
    "    # SOME STUFF\n",
    "])"
   ]
  },
  {
   "cell_type": "markdown",
   "metadata": {
    "id": "O26hME6691AG"
   },
   "source": [
    "Let's try the concatenation of two LSTMs!"
   ]
  },
  {
   "cell_type": "markdown",
   "metadata": {
    "id": "mE51Bcis5oqt"
   },
   "source": [
    "## CNN on text!\n",
    "\n",
    "As a bonus question, you can try to replace the LSTM by a CNN. Actually, CNN work well on text also! To be more precise, they work well for tasks where there is no long-distance relationship between parts of the text (which is the case for classification).\n",
    "\n",
    "Be careful, this time you will use `Conv1D` (not `Conv2D`), since the convolution is only along the sentence (and not along the embedding dimension). You will also need `GlobalMaxPooling1D` at the end to reduce each feature maps\" into a single value."
   ]
  },
  {
   "cell_type": "markdown",
   "metadata": {
    "id": "CmHqVSCY5nr0"
   },
   "source": [
    "# Transfer learning on text"
   ]
  },
  {
   "cell_type": "markdown",
   "metadata": {
    "id": "m0RHHiVd0Ww8"
   },
   "source": [
    "We'll use already pretrained word embeddings called Glove!\n",
    "More info here: https://nlp.stanford.edu/projects/glove/"
   ]
  },
  {
   "cell_type": "markdown",
   "metadata": {
    "id": "l2MDaT5k5uqf"
   },
   "source": [
    "Next, we compute an index mapping words to known embeddings, by parsing the data dump of pre-trained embeddings:\n",
    "\n"
   ]
  },
  {
   "cell_type": "code",
   "execution_count": null,
   "metadata": {
    "id": "hEHf-GqOnRDi"
   },
   "outputs": [],
   "source": [
    "!wget http://nlp.stanford.edu/data/glove.6B.zip"
   ]
  },
  {
   "cell_type": "code",
   "execution_count": null,
   "metadata": {
    "id": "P-K0piqSn8kL"
   },
   "outputs": [],
   "source": [
    "import os\n",
    "import zipfile\n",
    "\n",
    "local_zip = 'glove.6B.zip'\n",
    "zip_ref = zipfile.ZipFile(local_zip, 'r')\n",
    "zip_ref.extractall('/tmp')\n",
    "zip_ref.close()"
   ]
  },
  {
   "cell_type": "code",
   "execution_count": null,
   "metadata": {
    "id": "sFCkw0Rz5sPR"
   },
   "outputs": [],
   "source": [
    "import numpy as np\n",
    "\n",
    "embeddings_index = {}\n",
    "f = open(os.path.join(\"/tmp\", 'glove.6B.100d.txt'))\n",
    "for line in f:\n",
    "    values = line.split()\n",
    "    word = values[0]\n",
    "    coefs = np.asarray(values[1:], dtype='float32')\n",
    "    embeddings_index[word] = coefs\n",
    "f.close()\n",
    "\n",
    "print('Found %s word vectors.' % len(embeddings_index))"
   ]
  },
  {
   "cell_type": "markdown",
   "metadata": {
    "id": "P4MCEtPQ5vUs"
   },
   "source": [
    "At this point we can leverage our embedding_index dictionary and our word_index to compute our embedding matrix:"
   ]
  },
  {
   "cell_type": "code",
   "execution_count": null,
   "metadata": {
    "id": "GuOMG7aR5xg4"
   },
   "outputs": [],
   "source": [
    "embeddings_dim = 100\n",
    "\n",
    "embedding_matrix = np.zeros((len(vocab), embeddings_dim))\n",
    "for i, word in enumerate(vocab):\n",
    "    embedding_vector = embeddings_index.get(word)\n",
    "    if embedding_vector is not None:\n",
    "        # words not found in embedding index will be all-zeros.\n",
    "        embedding_matrix[i] = embedding_vector"
   ]
  },
  {
   "cell_type": "markdown",
   "metadata": {
    "id": "zP84acOh-VNz"
   },
   "source": [
    "💡 Let's compute the cosine similarity between vectors, to observe the semantic relationships between words!"
   ]
  },
  {
   "cell_type": "code",
   "execution_count": null,
   "metadata": {
    "id": "VGzBX_s0pv7x"
   },
   "outputs": [],
   "source": [
    "# 💡 compute cosine similarity: let's try different words!\n",
    "A = embeddings_index[\"car\"]\n",
    "B = embeddings_index[\"truck\"]\n",
    "\n",
    "cosine = np.dot(A,B)/(np.linalg.norm(A)*np.linalg.norm(B))\n",
    "print(\"Cosine Similarity:\", cosine)\n",
    "\n",
    "# You can however note something: these embeddings are computed with their context,\n",
    "# and then do not capture very well the opposites. For example, the verb \"like\"\n",
    "# is quite similar to the verb \"hate\" even if it is the opposite."
   ]
  },
  {
   "cell_type": "markdown",
   "metadata": {
    "id": "idsm4SBp5z96"
   },
   "source": [
    "We load this embedding matrix into an Embedding layer.\n",
    "\n",
    "Note that we can set trainable=False to prevent the weights from being updated during training.\n",
    "\n"
   ]
  },
  {
   "cell_type": "code",
   "execution_count": null,
   "metadata": {
    "id": "MQRKmyOv51fE"
   },
   "outputs": [],
   "source": [
    "embedding_layer = tf.keras.layers.Embedding(len(vocab),\n",
    "                                            embeddings_dim,\n",
    "                                            weights=[embedding_matrix],\n",
    "                                            trainable=True)"
   ]
  },
  {
   "cell_type": "markdown",
   "metadata": {
    "id": "qlJ98So9q5cu"
   },
   "source": [
    "💡 Now, put this embedding layer already pre-trained on the network and check if the network is learning faster! You can try with and without freezing th embedding layer."
   ]
  },
  {
   "cell_type": "markdown",
   "metadata": {
    "id": "tKcLpT5S-q41"
   },
   "source": [
    "# Try non supervised techniques on word embeddings!"
   ]
  },
  {
   "cell_type": "markdown",
   "metadata": {
    "id": "lLd5Od75NqyL"
   },
   "source": [
    "You can do a lot of things without any training, just based on some pre-trained word embeddings.\n",
    "For example, you can do topic modelling or event text classification. Let's try text classification!"
   ]
  },
  {
   "cell_type": "code",
   "execution_count": null,
   "metadata": {
    "id": "07sQaROSNrx7"
   },
   "outputs": [],
   "source": [
    "from scipy import spatial\n",
    "from sklearn import neighbors\n",
    "\n",
    "embeddings_dim = 100"
   ]
  },
  {
   "cell_type": "markdown",
   "metadata": {
    "id": "RKuDepKNwg0Z"
   },
   "source": [
    "The goal will be to classify a text in these 5 following categories:"
   ]
  },
  {
   "cell_type": "code",
   "execution_count": null,
   "metadata": {
    "id": "_Wh_niCnOuEY"
   },
   "outputs": [],
   "source": [
    "label_names = ['business', 'entertainment', 'politics', 'sport', 'technology']"
   ]
  },
  {
   "cell_type": "code",
   "execution_count": null,
   "metadata": {
    "id": "Plttv1D5Offx"
   },
   "outputs": [],
   "source": [
    "def get_centroid(vectors):\n",
    "  \"\"\" Will compute the average of the input vectors.\n",
    "  Returns 1 vector of dimension embeddings_dim.\n",
    "  \"\"\"\n",
    "  return np.mean(vectors, axis=0)\n",
    "\n",
    "def embed(text):\n",
    "  \"\"\" Given a text, returns the list of vector embeddings from each word of\n",
    "      the text.\n",
    "      The output array is of dimension (Nb_words X embeddings_dim)\n",
    "  \"\"\"\n",
    "  vectors = []\n",
    "  for token in text.split():\n",
    "    if embeddings_index.get(token) is not None:\n",
    "        vectors.append(embeddings_index[token])\n",
    "  return np.asarray(vectors)"
   ]
  },
  {
   "cell_type": "code",
   "execution_count": null,
   "metadata": {
    "id": "lGRNXqSJSZ-3"
   },
   "outputs": [],
   "source": [
    "# Embed the class names into their embedding vector.\n",
    "label_vectors = np.asarray([embed(label) for label in label_names])\n",
    "label_vectors.resize(len(label_names), embeddings_dim)\n",
    "label_vectors.shape"
   ]
  },
  {
   "cell_type": "markdown",
   "metadata": {
    "id": "eDyE901bxDpC"
   },
   "source": [
    "The goal will be to assign a text to its class using the nearest neighbor algorithm:\n",
    "1. Let's take the average of all word embeddings of the text\n",
    "2. Find its nearest neighbor amongst the 5 classes"
   ]
  },
  {
   "cell_type": "code",
   "execution_count": null,
   "metadata": {
    "id": "4CN1T1akQYT0"
   },
   "outputs": [],
   "source": [
    "neigh = neighbors.NearestNeighbors(\n",
    "         n_neighbors=1,\n",
    "         metric=spatial.distance.cosine)\n",
    "\n",
    "neigh.fit(label_vectors)"
   ]
  },
  {
   "cell_type": "code",
   "execution_count": null,
   "metadata": {
    "id": "DhzkgqSaTnYH"
   },
   "outputs": [],
   "source": [
    "my_text = \"I like theater !\"\n",
    "text_embedding = embed(my_text)\n",
    "centroid = get_centroid(text_embedding)"
   ]
  },
  {
   "cell_type": "code",
   "execution_count": null,
   "metadata": {
    "id": "bXhWZ1HES-ed"
   },
   "outputs": [],
   "source": [
    "closest_label = neigh.kneighbors([centroid], return_distance=False)[0, 0]\n",
    "label_names[closest_label]"
   ]
  }
 ],
 "metadata": {
  "accelerator": "GPU",
  "colab": {
   "collapsed_sections": [
    "cPjBxeiDcJK-",
    "ELjRIkJQc2Ka",
    "LRNiSl_nejXg",
    "rpAQSYXWgS3-",
    "CmHqVSCY5nr0",
    "tKcLpT5S-q41"
   ],
   "provenance": [
    {
     "file_id": "1Bqd3SH7ZkWhUKdjnsyQcArJoKXfmnwu9",
     "timestamp": 1701794898767
    }
   ]
  },
  "kernelspec": {
   "display_name": "Python 3",
   "name": "python3"
  },
  "language_info": {
   "name": "python"
  }
 },
 "nbformat": 4,
 "nbformat_minor": 0
}
